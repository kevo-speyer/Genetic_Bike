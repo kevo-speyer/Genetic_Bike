{
 "cells": [
  {
   "cell_type": "code",
   "execution_count": 36,
   "id": "43273ac7",
   "metadata": {},
   "outputs": [],
   "source": [
    "from floor import Floor\n",
    "from bike  import Bike\n",
    "import numpy as np\n",
    "from solver import RuKu4, Euler as run\n",
    "from score import score\n",
    "from evol import next_gen#, crossovers, mutations, selection"
   ]
  },
  {
   "cell_type": "code",
   "execution_count": 37,
   "id": "7b3acad3",
   "metadata": {},
   "outputs": [],
   "source": [
    "ground = Floor()\n",
    "bike_list = [Bike() for _ in range(100)]"
   ]
  },
  {
   "cell_type": "code",
   "execution_count": 42,
   "id": "4ee777c0",
   "metadata": {},
   "outputs": [
    {
     "ename": "IndexError",
     "evalue": "index 80 is out of bounds for axis 0 with size 80",
     "output_type": "error",
     "traceback": [
      "\u001b[0;31m---------------------------------------------------------------------------\u001b[0m",
      "\u001b[0;31mIndexError\u001b[0m                                Traceback (most recent call last)",
      "\u001b[0;32m/tmp/ipykernel_1238794/3798001717.py\u001b[0m in \u001b[0;36m<module>\u001b[0;34m\u001b[0m\n\u001b[1;32m      1\u001b[0m \u001b[0;32mfor\u001b[0m \u001b[0mbike\u001b[0m \u001b[0;32min\u001b[0m \u001b[0mbike_list\u001b[0m\u001b[0;34m:\u001b[0m\u001b[0;34m\u001b[0m\u001b[0;34m\u001b[0m\u001b[0m\n\u001b[1;32m      2\u001b[0m     \u001b[0mbk\u001b[0m \u001b[0;34m=\u001b[0m \u001b[0mbike\u001b[0m\u001b[0;34m\u001b[0m\u001b[0;34m\u001b[0m\u001b[0m\n\u001b[0;32m----> 3\u001b[0;31m     \u001b[0mrun\u001b[0m\u001b[0;34m(\u001b[0m\u001b[0mbike\u001b[0m\u001b[0;34m,\u001b[0m \u001b[0mground\u001b[0m\u001b[0;34m)\u001b[0m\u001b[0;34m\u001b[0m\u001b[0;34m\u001b[0m\u001b[0m\n\u001b[0m\u001b[1;32m      4\u001b[0m     \u001b[0mscore\u001b[0m\u001b[0;34m(\u001b[0m\u001b[0mbike\u001b[0m\u001b[0;34m)\u001b[0m\u001b[0;34m\u001b[0m\u001b[0;34m\u001b[0m\u001b[0m\n",
      "\u001b[0;32m~/Jampp/repos/Genetic_Bike/solver.py\u001b[0m in \u001b[0;36mEuler\u001b[0;34m(bike1, ground)\u001b[0m\n\u001b[1;32m    189\u001b[0m             \u001b[0;32massert\u001b[0m\u001b[0;34m(\u001b[0m \u001b[0mbike1\u001b[0m\u001b[0;34m.\u001b[0m\u001b[0mbike_pos\u001b[0m\u001b[0;34m[\u001b[0m\u001b[0mi_el\u001b[0m\u001b[0;34m,\u001b[0m\u001b[0;36m0\u001b[0m\u001b[0;34m]\u001b[0m \u001b[0;34m>\u001b[0m\u001b[0;36m0\u001b[0m \u001b[0;34m)\u001b[0m\u001b[0;34m\u001b[0m\u001b[0;34m\u001b[0m\u001b[0m\n\u001b[1;32m    190\u001b[0m \u001b[0;34m\u001b[0m\u001b[0m\n\u001b[0;32m--> 191\u001b[0;31m         \u001b[0merr\u001b[0m \u001b[0;34m=\u001b[0m \u001b[0mbk_gd_int\u001b[0m\u001b[0;34m(\u001b[0m\u001b[0mbike1\u001b[0m\u001b[0;34m,\u001b[0m\u001b[0mground\u001b[0m\u001b[0;34m)\u001b[0m\u001b[0;34m\u001b[0m\u001b[0;34m\u001b[0m\u001b[0m\n\u001b[0m\u001b[1;32m    192\u001b[0m         \u001b[0;32mif\u001b[0m \u001b[0;34m(\u001b[0m\u001b[0merr\u001b[0m \u001b[0;34m==\u001b[0m \u001b[0;36m1\u001b[0m\u001b[0;34m)\u001b[0m\u001b[0;34m:\u001b[0m\u001b[0;34m\u001b[0m\u001b[0;34m\u001b[0m\u001b[0m\n\u001b[1;32m    193\u001b[0m             \u001b[0mmove\u001b[0m \u001b[0;34m=\u001b[0m \u001b[0;36m0\u001b[0m \u001b[0;31m# Stop moving if head hits ground\u001b[0m\u001b[0;34m\u001b[0m\u001b[0;34m\u001b[0m\u001b[0m\n",
      "\u001b[0;32m~/Jampp/repos/Genetic_Bike/bike_gr_int.py\u001b[0m in \u001b[0;36mbk_gd_int\u001b[0;34m(bike, ground)\u001b[0m\n\u001b[1;32m     94\u001b[0m                 \u001b[0mny\u001b[0m \u001b[0;34m=\u001b[0m \u001b[0;36m1.\u001b[0m\u001b[0;34m\u001b[0m\u001b[0;34m\u001b[0m\u001b[0m\n\u001b[1;32m     95\u001b[0m             \u001b[0;31m# print 'edge distance = ', dist_edge\u001b[0m\u001b[0;34m\u001b[0m\u001b[0;34m\u001b[0m\u001b[0;34m\u001b[0m\u001b[0m\n\u001b[0;32m---> 96\u001b[0;31m             \u001b[0;32melif\u001b[0m \u001b[0mx_int\u001b[0m \u001b[0;34m>\u001b[0m \u001b[0mfl_coor\u001b[0m\u001b[0;34m[\u001b[0m\u001b[0mi\u001b[0m\u001b[0;34m+\u001b[0m\u001b[0;36m1\u001b[0m\u001b[0;34m,\u001b[0m\u001b[0;36m0\u001b[0m\u001b[0;34m]\u001b[0m\u001b[0;34m:\u001b[0m\u001b[0;34m\u001b[0m\u001b[0;34m\u001b[0m\u001b[0m\n\u001b[0m\u001b[1;32m     97\u001b[0m                 \u001b[0;31m# Minimum distance at right edge of the segment\u001b[0m\u001b[0;34m\u001b[0m\u001b[0;34m\u001b[0m\u001b[0;34m\u001b[0m\u001b[0m\n\u001b[1;32m     98\u001b[0m                 \u001b[0;31m# print 'Evaluate right Edge in segment ',fl_coor[i,0],fl_coor[i+1,0]\u001b[0m\u001b[0;34m\u001b[0m\u001b[0;34m\u001b[0m\u001b[0;34m\u001b[0m\u001b[0m\n",
      "\u001b[0;31mIndexError\u001b[0m: index 80 is out of bounds for axis 0 with size 80"
     ]
    }
   ],
   "source": [
    "for bike in bike_list:\n",
    "    bk = bike\n",
    "    run(bike, ground)\n",
    "    score(bike)"
   ]
  },
  {
   "cell_type": "code",
   "execution_count": 39,
   "id": "edf2a2d2",
   "metadata": {},
   "outputs": [
    {
     "data": {
      "text/plain": [
       "(100, 129.31660959273, 14.286084254735062)"
      ]
     },
     "execution_count": 39,
     "metadata": {},
     "output_type": "execute_result"
    }
   ],
   "source": [
    "len([bk for bk in bike_list]),np.max([bk.score for bk in bike_list]),np.median([bk.score for bk in bike_list])"
   ]
  },
  {
   "cell_type": "code",
   "execution_count": 40,
   "id": "cc7840d2",
   "metadata": {},
   "outputs": [],
   "source": [
    "bike_list = next_gen(bike_list,n_crosses=50,n_mutations=50)"
   ]
  },
  {
   "cell_type": "code",
   "execution_count": 41,
   "id": "753fb224",
   "metadata": {},
   "outputs": [
    {
     "data": {
      "text/plain": [
       "120"
      ]
     },
     "execution_count": 41,
     "metadata": {},
     "output_type": "execute_result"
    }
   ],
   "source": [
    "len(bike_list)"
   ]
  },
  {
   "cell_type": "code",
   "execution_count": 10,
   "id": "2753d8d7",
   "metadata": {},
   "outputs": [
    {
     "data": {
      "text/plain": [
       "array([6.55705938, 5.16623779])"
      ]
     },
     "execution_count": 10,
     "metadata": {},
     "output_type": "execute_result"
    }
   ],
   "source": [
    "bike_list[0].init_pos[0]"
   ]
  },
  {
   "cell_type": "code",
   "execution_count": null,
   "id": "4141928c",
   "metadata": {},
   "outputs": [],
   "source": []
  }
 ],
 "metadata": {
  "kernelspec": {
   "display_name": "Python 3 (ipykernel)",
   "language": "python",
   "name": "python3"
  },
  "language_info": {
   "codemirror_mode": {
    "name": "ipython",
    "version": 3
   },
   "file_extension": ".py",
   "mimetype": "text/x-python",
   "name": "python",
   "nbconvert_exporter": "python",
   "pygments_lexer": "ipython3",
   "version": "3.8.5"
  }
 },
 "nbformat": 4,
 "nbformat_minor": 5
}
